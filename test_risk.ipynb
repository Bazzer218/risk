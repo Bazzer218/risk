{
 "cells": [
  {
   "cell_type": "code",
   "execution_count": 197,
   "metadata": {
    "collapsed": false
   },
   "outputs": [
    {
     "data": {
      "text/plain": [
       "<module 'player' from 'player.pyc'>"
      ]
     },
     "execution_count": 197,
     "metadata": {},
     "output_type": "execute_result"
    }
   ],
   "source": [
    "import missions, board, game, player\n",
    "reload(missions)\n",
    "reload(board)\n",
    "reload(game)\n",
    "reload(player)"
   ]
  },
  {
   "cell_type": "code",
   "execution_count": 198,
   "metadata": {
    "collapsed": true
   },
   "outputs": [],
   "source": [
    "players = [\n",
    "    player.RandomPlayer(),\n",
    "    player.RandomPlayer(),\n",
    "    player.RandomPlayer(),\n",
    "    player.RandomPlayer()\n",
    "]"
   ]
  },
  {
   "cell_type": "code",
   "execution_count": 199,
   "metadata": {
    "collapsed": false
   },
   "outputs": [],
   "source": [
    "g = game.Game.create(players)"
   ]
  },
  {
   "cell_type": "code",
   "execution_count": 200,
   "metadata": {
    "collapsed": false
   },
   "outputs": [
    {
     "data": {
      "text/plain": [
       "[Mission(\"conquer europe and south-america and an additional continent of choice\", assigned to red),\n",
       " Mission(\"conquer europe and oceania and an additional continent of choice\", assigned to blue),\n",
       " Mission(\"fallback: conquer at least 24 territories\", assigned to green),\n",
       " Mission(\"fallback: conquer at least 24 territories\", assigned to yellow)]"
      ]
     },
     "execution_count": 200,
     "metadata": {},
     "output_type": "execute_result"
    }
   ],
   "source": [
    "g.missions"
   ]
  },
  {
   "cell_type": "code",
   "execution_count": 201,
   "metadata": {
    "collapsed": false
   },
   "outputs": [
    {
     "data": {
      "text/plain": [
       "False"
      ]
     },
     "execution_count": 201,
     "metadata": {},
     "output_type": "execute_result"
    }
   ],
   "source": [
    "g.has_ended()"
   ]
  },
  {
   "cell_type": "code",
   "execution_count": 202,
   "metadata": {
    "collapsed": false
   },
   "outputs": [],
   "source": [
    "g.initialize_armies()"
   ]
  },
  {
   "cell_type": "code",
   "execution_count": 203,
   "metadata": {
    "collapsed": false
   },
   "outputs": [
    {
     "data": {
      "text/plain": [
       "0"
      ]
     },
     "execution_count": 203,
     "metadata": {},
     "output_type": "execute_result"
    }
   ],
   "source": [
    "g.turn"
   ]
  },
  {
   "cell_type": "code",
   "execution_count": 204,
   "metadata": {
    "collapsed": false
   },
   "outputs": [
    {
     "name": "stdout",
     "output_type": "stream",
     "text": [
      "CPU times: user 58.7 ms, sys: 2.9 ms, total: 61.6 ms\n",
      "Wall time: 59.4 ms\n"
     ]
    }
   ],
   "source": [
    "%%time\n",
    "\n",
    "while not g.has_ended():\n",
    "    g.play_turn()"
   ]
  },
  {
   "cell_type": "code",
   "execution_count": 205,
   "metadata": {
    "collapsed": false
   },
   "outputs": [
    {
     "data": {
      "text/plain": [
       "True"
      ]
     },
     "execution_count": 205,
     "metadata": {},
     "output_type": "execute_result"
    }
   ],
   "source": [
    "g.has_ended()"
   ]
  },
  {
   "cell_type": "code",
   "execution_count": 206,
   "metadata": {
    "collapsed": false
   },
   "outputs": [
    {
     "data": {
      "text/plain": [
       "3"
      ]
     },
     "execution_count": 206,
     "metadata": {},
     "output_type": "execute_result"
    }
   ],
   "source": [
    "g.winner()"
   ]
  },
  {
   "cell_type": "code",
   "execution_count": 207,
   "metadata": {
    "collapsed": false
   },
   "outputs": [
    {
     "data": {
      "text/plain": [
       "[(0, 3, 2),\n",
       " (1, 1, 3),\n",
       " (2, 2, 1),\n",
       " (3, 1, 9),\n",
       " (4, 3, 1),\n",
       " (5, 1, 3),\n",
       " (6, 3, 1),\n",
       " (7, 3, 5),\n",
       " (8, 3, 1),\n",
       " (9, 0, 7),\n",
       " (10, 1, 2),\n",
       " (11, 3, 7),\n",
       " (12, 3, 10),\n",
       " (13, 3, 1),\n",
       " (14, 3, 1),\n",
       " (15, 3, 1),\n",
       " (16, 0, 20),\n",
       " (17, 2, 1),\n",
       " (18, 1, 3),\n",
       " (19, 3, 1),\n",
       " (20, 3, 7),\n",
       " (21, 3, 5),\n",
       " (22, 1, 1),\n",
       " (23, 0, 1),\n",
       " (24, 3, 2),\n",
       " (25, 3, 2),\n",
       " (26, 3, 1),\n",
       " (27, 2, 2),\n",
       " (28, 1, 6),\n",
       " (29, 1, 1),\n",
       " (30, 3, 35),\n",
       " (31, 3, 1),\n",
       " (32, 2, 1),\n",
       " (33, 3, 6),\n",
       " (34, 3, 19),\n",
       " (35, 3, 1),\n",
       " (36, 3, 1),\n",
       " (37, 1, 10),\n",
       " (38, 0, 10),\n",
       " (39, 3, 13),\n",
       " (40, 1, 10),\n",
       " (41, 3, 1)]"
      ]
     },
     "execution_count": 207,
     "metadata": {},
     "output_type": "execute_result"
    }
   ],
   "source": [
    "g.board.data"
   ]
  },
  {
   "cell_type": "code",
   "execution_count": 132,
   "metadata": {
    "collapsed": false
   },
   "outputs": [
    {
     "name": "stdout",
     "output_type": "stream",
     "text": [
      "Mission(\"conquer asia and south-america\", assigned to red) False 0.208333333333\n",
      "Mission(\"conquer africa and asia\", assigned to red) False 0.25\n",
      "Mission(\"conquer africa and north-america\", assigned to red) False 0.388888888889\n",
      "Mission(\"conquer north-america and oceania\", assigned to red) False 0.347222222222\n",
      "Mission(\"conquer europe and south-america and an additional continent of choice\", assigned to red) False 0.279100529101\n",
      "Mission(\"conquer europe and oceania and an additional continent of choice\", assigned to red) False 0.279100529101\n",
      "Mission(\"conquer at least 24 territories\", assigned to red) False 0.458333333333\n",
      "Mission(\"conquer at least 18 territories and have at least 2 armies on each territory\", assigned to red) False 0.0\n",
      "Mission(\"fallback: conquer at least 24 territories\", assigned to red) False 0.458333333333\n",
      "Mission(\"eliminate the blue player\", assigned to red) False 0.738095238095\n",
      "Mission(\"eliminate the green player\", assigned to red) False 0.761904761905\n",
      "Mission(\"eliminate the yellow player\", assigned to red) False 0.761904761905\n"
     ]
    }
   ],
   "source": [
    "for ms in m:\n",
    "    ms.assign_to(0)\n",
    "    print ms, ms.evaluate(b), ms.score(b)"
   ]
  },
  {
   "cell_type": "code",
   "execution_count": 14,
   "metadata": {
    "collapsed": false
   },
   "outputs": [],
   "source": [
    "b."
   ]
  },
  {
   "cell_type": "code",
   "execution_count": 15,
   "metadata": {
    "collapsed": false
   },
   "outputs": [
    {
     "name": "stdout",
     "output_type": "stream",
     "text": [
      "Mission(\"conquer asia and south-america\") False\n",
      "Mission(\"conquer africa and asia\") False\n",
      "Mission(\"conquer africa and north-america\") False\n",
      "Mission(\"conquer north-america and oceania\") False\n",
      "Mission(\"conquer europe and south-america and an additional continent\") False\n",
      "Mission(\"conquer europe and oceania and an additional continent\") False\n",
      "Mission(\"conquer at least 18 territories with at least 2 armies on each territory\") False\n",
      "Mission(\"conquer at least 24 territories\") False\n",
      "Mission(\"eliminate the red player\") False\n",
      "Mission(\"eliminate the blue player\") False\n"
     ]
    }
   ],
   "source": [
    "for m in risk.missions(2):\n",
    "    print m, m.evaluate(b, 0)"
   ]
  },
  {
   "cell_type": "code",
   "execution_count": 140,
   "metadata": {
    "collapsed": false
   },
   "outputs": [
    {
     "name": "stdout",
     "output_type": "stream",
     "text": [
      "0 3\n",
      "1 3\n",
      "2 3\n",
      "3 3\n"
     ]
    }
   ],
   "source": [
    "for pid in range(4):\n",
    "    print pid, b.reinforcements(pid)"
   ]
  },
  {
   "cell_type": "code",
   "execution_count": 119,
   "metadata": {
    "collapsed": false
   },
   "outputs": [
    {
     "data": {
      "text/plain": [
       "[1, 2, 3, 5, 12, 14, 17, 18, 26, 31, 40]"
      ]
     },
     "execution_count": 119,
     "metadata": {},
     "output_type": "execute_result"
    }
   ],
   "source": [
    "[rid for (rid, pid, arm) in b.data if pid == 0]"
   ]
  },
  {
   "cell_type": "code",
   "execution_count": 113,
   "metadata": {
    "collapsed": false
   },
   "outputs": [
    {
     "name": "stdout",
     "output_type": "stream",
     "text": [
      "0 None\n",
      "1 0\n",
      "2 None\n",
      "3 None\n",
      "4 None\n",
      "5 3\n"
     ]
    }
   ],
   "source": [
    "for continent_id in range(6):\n",
    "    print continent_id, b.continent_owner(continent_id)"
   ]
  },
  {
   "cell_type": "code",
   "execution_count": 115,
   "metadata": {
    "collapsed": false
   },
   "outputs": [
    {
     "name": "stdout",
     "output_type": "stream",
     "text": [
      "0 []\n",
      "1 [(4, 0, 2), (6, 0, 2), (17, 0, 2), (22, 0, 2), (23, 0, 2), (27, 0, 2), (31, 0, 2), (36, 0, 2), (37, 0, 2), (40, 0, 2), (41, 0, 2)]\n",
      "2 []\n",
      "3 [(1, 1, 2), (5, 1, 2), (7, 2, 2), (8, 1, 2), (9, 2, 2), (10, 2, 2), (11, 1, 2), (12, 2, 2), (15, 2, 2), (16, 1, 2), (19, 2, 2), (21, 2, 2), (26, 1, 2), (28, 2, 2), (29, 1, 2), (30, 2, 2), (33, 1, 2), (34, 1, 2), (35, 1, 2), (38, 1, 2), (39, 2, 2)]\n",
      "4 []\n",
      "5 [(0, 3, 2), (2, 3, 2), (3, 3, 2), (13, 3, 2), (14, 3, 2), (18, 3, 2), (20, 3, 2), (24, 3, 2), (25, 3, 2), (32, 3, 2)]\n"
     ]
    }
   ],
   "source": [
    "for continent_id in range(6):\n",
    "    print continent_id, list(b.continent(continent_id))"
   ]
  },
  {
   "cell_type": "code",
   "execution_count": 106,
   "metadata": {
    "collapsed": false
   },
   "outputs": [
    {
     "name": "stdout",
     "output_type": "stream",
     "text": [
      "10000 loops, best of 3: 61.6 µs per loop\n"
     ]
    }
   ],
   "source": [
    "%%timeit\n",
    "b.possible_attacks(1)"
   ]
  },
  {
   "cell_type": "code",
   "execution_count": null,
   "metadata": {
    "collapsed": true
   },
   "outputs": [],
   "source": []
  }
 ],
 "metadata": {
  "kernelspec": {
   "display_name": "Python 2",
   "language": "python",
   "name": "python2"
  },
  "language_info": {
   "codemirror_mode": {
    "name": "ipython",
    "version": 2
   },
   "file_extension": ".py",
   "mimetype": "text/x-python",
   "name": "python",
   "nbconvert_exporter": "python",
   "pygments_lexer": "ipython2",
   "version": "2.7.10"
  }
 },
 "nbformat": 4,
 "nbformat_minor": 0
}
