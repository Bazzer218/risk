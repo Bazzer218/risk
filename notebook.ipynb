{
 "cells": [
  {
   "cell_type": "code",
   "execution_count": 74,
   "metadata": {
    "collapsed": false
   },
   "outputs": [
    {
     "data": {
      "text/plain": [
       "<module 'risk' from 'risk.py'>"
      ]
     },
     "execution_count": 74,
     "metadata": {},
     "output_type": "execute_result"
    }
   ],
   "source": [
    "import risk\n",
    "reload(risk)"
   ]
  },
  {
   "cell_type": "code",
   "execution_count": 84,
   "metadata": {
    "collapsed": true
   },
   "outputs": [],
   "source": [
    "import random, numpy, math\n",
    "import matplotlib.pyplot as plt\n",
    "%matplotlib inline"
   ]
  },
  {
   "cell_type": "code",
   "execution_count": 76,
   "metadata": {
    "collapsed": false
   },
   "outputs": [],
   "source": [
    "regions = graph.regions()"
   ]
  },
  {
   "cell_type": "code",
   "execution_count": 77,
   "metadata": {
    "collapsed": false
   },
   "outputs": [
    {
     "data": {
      "text/plain": [
       "[Region(eastern-australia),\n",
       " Region(congo),\n",
       " Region(new-guinea),\n",
       " Region(irkutsk),\n",
       " Region(central-america),\n",
       " Region(ural),\n",
       " Region(argentina),\n",
       " Region(eastern-united-states),\n",
       " Region(peru),\n",
       " Region(western-united-states)]"
      ]
     },
     "execution_count": 77,
     "metadata": {},
     "output_type": "execute_result"
    }
   ],
   "source": [
    "random.sample(regions, 10)"
   ]
  },
  {
   "cell_type": "code",
   "execution_count": 81,
   "metadata": {
    "collapsed": false
   },
   "outputs": [],
   "source": [
    "def full_continents(my_regions):\n",
    "    retval = [ ]\n",
    "    for continent, regions in risk.continents.items():\n",
    "        n_regions = len(regions)\n",
    "        n_my_regions = len([r for r in my_regions if r.continent() == continent])\n",
    "        if n_regions == (n_my_regions):\n",
    "            retval.append(continent)\n",
    "    return retval\n",
    "def new_armies(my_regions):\n",
    "    retval = max(3, int(math.floor(len(my_regions)/3)))\n",
    "    for continent in full_continents(my_regions):\n",
    "        retval += risk.continent_bonus[continent]\n",
    "    return retval"
   ]
  },
  {
   "cell_type": "code",
   "execution_count": 103,
   "metadata": {
    "collapsed": true
   },
   "outputs": [],
   "source": [
    "def safe_nodes(my_regions):\n",
    "    retval = 0\n",
    "    for r in my_regions:\n",
    "        safe = True\n",
    "        for n in r.neighbors():\n",
    "            if not n in [x.name for x in my_regions]:\n",
    "                safe = False\n",
    "                break\n",
    "        retval += safe\n",
    "    return retval"
   ]
  },
  {
   "cell_type": "code",
   "execution_count": 104,
   "metadata": {
    "collapsed": false
   },
   "outputs": [
    {
     "data": {
      "text/plain": [
       "38"
      ]
     },
     "execution_count": 104,
     "metadata": {},
     "output_type": "execute_result"
    }
   ],
   "source": [
    "new_armies(random.sample(regions, 42))"
   ]
  },
  {
   "cell_type": "code",
   "execution_count": 105,
   "metadata": {
    "collapsed": false
   },
   "outputs": [
    {
     "data": {
      "text/plain": [
       "42"
      ]
     },
     "execution_count": 105,
     "metadata": {},
     "output_type": "execute_result"
    }
   ],
   "source": [
    "safe_nodes(random.sample(regions, 42))"
   ]
  },
  {
   "cell_type": "code",
   "execution_count": null,
   "metadata": {
    "collapsed": false
   },
   "outputs": [],
   "source": [
    "plt.hist([safe_nodes(random.sample(regions, 30)) for i in range(10000)], bins=10)\n",
    "    "
   ]
  },
  {
   "cell_type": "code",
   "execution_count": null,
   "metadata": {
    "collapsed": true
   },
   "outputs": [],
   "source": []
  }
 ],
 "metadata": {
  "kernelspec": {
   "display_name": "Python 2",
   "language": "python",
   "name": "python2"
  },
  "language_info": {
   "codemirror_mode": {
    "name": "ipython",
    "version": 2
   },
   "file_extension": ".py",
   "mimetype": "text/x-python",
   "name": "python",
   "nbconvert_exporter": "python",
   "pygments_lexer": "ipython2",
   "version": "2.7.10"
  }
 },
 "nbformat": 4,
 "nbformat_minor": 0
}
