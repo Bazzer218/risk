{
 "cells": [
  {
   "cell_type": "code",
   "execution_count": null,
   "metadata": {
    "collapsed": false
   },
   "outputs": [],
   "source": [
    "import risk\n",
    "import game\n",
    "import missions\n",
    "import player\n",
    "import board\n",
    "reload(risk), reload(game), reload(missions), reload(player), reload(board)\n",
    "import copy, random, datetime\n",
    "import numpy as np\n",
    "import matplotlib.pyplot as plt\n",
    "import pandas as pd\n",
    "from multiprocessing import Pool\n",
    "%matplotlib inline"
   ]
  },
  {
   "cell_type": "code",
   "execution_count": null,
   "metadata": {
    "collapsed": true
   },
   "outputs": [],
   "source": [
    "def play_game(n_players, players):\n",
    "    p = [copy.deepcopy(random.choice(players)) for i in range(n_players)]\n",
    "    g = game.Game.create(p)\n",
    "    g.initialize_armies()\n",
    "    while not g.has_ended():\n",
    "        g.play_turn()\n",
    "    return {\n",
    "        'turn': g.turn, \n",
    "        'winner': g.winner(), \n",
    "        'winning_player' : g.players[g.winner()].description,\n",
    "        'winning_mission': g.missions[g.winner()].description}"
   ]
  },
  {
   "cell_type": "code",
   "execution_count": null,
   "metadata": {
    "collapsed": false
   },
   "outputs": [],
   "source": [
    "players = [\n",
    "    player.RandomPlayer(),\n",
    "    player.BasicPlayer(),\n",
    "    player.SmartPlayer()\n",
    "]"
   ]
  },
  {
   "cell_type": "code",
   "execution_count": null,
   "metadata": {
    "collapsed": true
   },
   "outputs": [],
   "source": [
    "def plot_hbar(df, dimension, ax=None):\n",
    "    vc = pd.DataFrame(df[dimension].value_counts())\n",
    "    vc['error'] = np.sqrt(vc[dimension])\n",
    "    ax = vc.plot(kind='barh', xerr='error', ax=ax)\n",
    "    ax.set_title(dimension)\n",
    "    return ax"
   ]
  },
  {
   "cell_type": "code",
   "execution_count": null,
   "metadata": {
    "collapsed": true
   },
   "outputs": [],
   "source": [
    "def test_players(players, n_games=100, n_players=4):\n",
    "    start = datetime.datetime.now()\n",
    "    results = [play_game(n_players, players) for i in range(n_games)]\n",
    "    end   = datetime.datetime.now()\n",
    "    print '{n} games in {t}; {f} seconds per game'.format(n=n_games, \n",
    "                                                          t=(end-start), \n",
    "                                                          f=((end-start)/n_games).total_seconds())\n",
    "    df = pd.DataFrame(results)\n",
    "    plt.figure(1, figsize=(12, 12))\n",
    "    ax = plt.subplot(3,1,1)\n",
    "    ax = df['turn'].hist()\n",
    "    ax = plt.subplot(3,1,2)\n",
    "    ax = plot_hbar(df, 'winning_mission', ax=ax)\n",
    "    ax = plt.subplot(3,1,3)\n",
    "    ax = plot_hbar(df, 'winning_player', ax=ax)\n",
    "    plt.show()\n",
    "    return df\n",
    "\n"
   ]
  },
  {
   "cell_type": "code",
   "execution_count": null,
   "metadata": {
    "collapsed": false
   },
   "outputs": [],
   "source": [
    "df = test_players(players, n_games=100)"
   ]
  },
  {
   "cell_type": "code",
   "execution_count": null,
   "metadata": {
    "collapsed": false
   },
   "outputs": [],
   "source": [
    "df = test_players(players, n_games=1000)"
   ]
  },
  {
   "cell_type": "code",
   "execution_count": null,
   "metadata": {
    "collapsed": false
   },
   "outputs": [],
   "source": [
    "df = test_players(players, n_games=10000)"
   ]
  },
  {
   "cell_type": "code",
   "execution_count": null,
   "metadata": {
    "collapsed": false
   },
   "outputs": [],
   "source": [
    "df = test_players(players, n_games=10000)"
   ]
  },
  {
   "cell_type": "code",
   "execution_count": null,
   "metadata": {
    "collapsed": true
   },
   "outputs": [],
   "source": []
  }
 ],
 "metadata": {
  "kernelspec": {
   "display_name": "Python 2",
   "language": "python",
   "name": "python2"
  },
  "language_info": {
   "codemirror_mode": {
    "name": "ipython",
    "version": 2
   },
   "file_extension": ".py",
   "mimetype": "text/x-python",
   "name": "python",
   "nbconvert_exporter": "python",
   "pygments_lexer": "ipython2",
   "version": "2.7.10"
  }
 },
 "nbformat": 4,
 "nbformat_minor": 0
}
